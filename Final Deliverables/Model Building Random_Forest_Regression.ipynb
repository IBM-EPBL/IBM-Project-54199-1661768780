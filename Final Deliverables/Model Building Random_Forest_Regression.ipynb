{
 "cells": [
  {
   "cell_type": "code",
   "execution_count": 1,
   "id": "f862682f",
   "metadata": {},
   "outputs": [],
   "source": [
    "import pandas as pd\n",
    "import numpy as np\n",
    "import matplotlib.pyplot as plt\n",
    "import seaborn as sns"
   ]
  },
  {
   "cell_type": "code",
   "execution_count": 2,
   "id": "c52e127f",
   "metadata": {},
   "outputs": [],
   "source": [
    "data = pd.read_csv(\"T1.csv\")"
   ]
  },
  {
   "cell_type": "code",
   "execution_count": 3,
   "id": "5ec998e6",
   "metadata": {},
   "outputs": [
    {
     "data": {
      "text/html": [
       "<div>\n",
       "<style scoped>\n",
       "    .dataframe tbody tr th:only-of-type {\n",
       "        vertical-align: middle;\n",
       "    }\n",
       "\n",
       "    .dataframe tbody tr th {\n",
       "        vertical-align: top;\n",
       "    }\n",
       "\n",
       "    .dataframe thead th {\n",
       "        text-align: right;\n",
       "    }\n",
       "</style>\n",
       "<table border=\"1\" class=\"dataframe\">\n",
       "  <thead>\n",
       "    <tr style=\"text-align: right;\">\n",
       "      <th></th>\n",
       "      <th>Date/Time</th>\n",
       "      <th>LV ActivePower (kW)</th>\n",
       "      <th>Wind Speed (m/s)</th>\n",
       "      <th>Theoretical_Power_Curve (KWh)</th>\n",
       "      <th>Wind Direction (°)</th>\n",
       "    </tr>\n",
       "  </thead>\n",
       "  <tbody>\n",
       "    <tr>\n",
       "      <th>0</th>\n",
       "      <td>01 01 2018 00:00</td>\n",
       "      <td>380.047791</td>\n",
       "      <td>5.311336</td>\n",
       "      <td>416.328908</td>\n",
       "      <td>259.994904</td>\n",
       "    </tr>\n",
       "    <tr>\n",
       "      <th>1</th>\n",
       "      <td>01 01 2018 00:10</td>\n",
       "      <td>453.769196</td>\n",
       "      <td>5.672167</td>\n",
       "      <td>519.917511</td>\n",
       "      <td>268.641113</td>\n",
       "    </tr>\n",
       "    <tr>\n",
       "      <th>2</th>\n",
       "      <td>01 01 2018 00:20</td>\n",
       "      <td>306.376587</td>\n",
       "      <td>5.216037</td>\n",
       "      <td>390.900016</td>\n",
       "      <td>272.564789</td>\n",
       "    </tr>\n",
       "    <tr>\n",
       "      <th>3</th>\n",
       "      <td>01 01 2018 00:30</td>\n",
       "      <td>419.645905</td>\n",
       "      <td>5.659674</td>\n",
       "      <td>516.127569</td>\n",
       "      <td>271.258087</td>\n",
       "    </tr>\n",
       "    <tr>\n",
       "      <th>4</th>\n",
       "      <td>01 01 2018 00:40</td>\n",
       "      <td>380.650696</td>\n",
       "      <td>5.577941</td>\n",
       "      <td>491.702972</td>\n",
       "      <td>265.674286</td>\n",
       "    </tr>\n",
       "  </tbody>\n",
       "</table>\n",
       "</div>"
      ],
      "text/plain": [
       "          Date/Time  LV ActivePower (kW)  Wind Speed (m/s)  \\\n",
       "0  01 01 2018 00:00           380.047791          5.311336   \n",
       "1  01 01 2018 00:10           453.769196          5.672167   \n",
       "2  01 01 2018 00:20           306.376587          5.216037   \n",
       "3  01 01 2018 00:30           419.645905          5.659674   \n",
       "4  01 01 2018 00:40           380.650696          5.577941   \n",
       "\n",
       "   Theoretical_Power_Curve (KWh)  Wind Direction (°)  \n",
       "0                     416.328908          259.994904  \n",
       "1                     519.917511          268.641113  \n",
       "2                     390.900016          272.564789  \n",
       "3                     516.127569          271.258087  \n",
       "4                     491.702972          265.674286  "
      ]
     },
     "execution_count": 3,
     "metadata": {},
     "output_type": "execute_result"
    }
   ],
   "source": [
    "#head funtion and tail funtion\n",
    "data.head()"
   ]
  },
  {
   "cell_type": "code",
   "execution_count": 4,
   "id": "b93a47a2",
   "metadata": {},
   "outputs": [],
   "source": [
    "data = data.rename(columns = {\"Date/Time\":\"Date\",\n",
    "                            \"LV ActivePower (kW)\":\"Active_Power\",\n",
    "                            \"Wind Speed (m/s)\":\"Wind_Speed\",\n",
    "                            \"Theoretical_Power_Curve (KWh)\":\"Theoretical_Power\",\n",
    "                            \"Wind Direction (°)\" :\"Wind_Direction\"\n",
    "                           })"
   ]
  },
  {
   "cell_type": "code",
   "execution_count": 5,
   "id": "2e944a5c",
   "metadata": {},
   "outputs": [
    {
     "data": {
      "text/html": [
       "<div>\n",
       "<style scoped>\n",
       "    .dataframe tbody tr th:only-of-type {\n",
       "        vertical-align: middle;\n",
       "    }\n",
       "\n",
       "    .dataframe tbody tr th {\n",
       "        vertical-align: top;\n",
       "    }\n",
       "\n",
       "    .dataframe thead th {\n",
       "        text-align: right;\n",
       "    }\n",
       "</style>\n",
       "<table border=\"1\" class=\"dataframe\">\n",
       "  <thead>\n",
       "    <tr style=\"text-align: right;\">\n",
       "      <th></th>\n",
       "      <th>Date</th>\n",
       "      <th>Active_Power</th>\n",
       "      <th>Wind_Speed</th>\n",
       "      <th>Theoretical_Power</th>\n",
       "      <th>Wind_Direction</th>\n",
       "    </tr>\n",
       "  </thead>\n",
       "  <tbody>\n",
       "    <tr>\n",
       "      <th>50525</th>\n",
       "      <td>31 12 2018 23:10</td>\n",
       "      <td>2963.980957</td>\n",
       "      <td>11.404030</td>\n",
       "      <td>3397.190793</td>\n",
       "      <td>80.502724</td>\n",
       "    </tr>\n",
       "    <tr>\n",
       "      <th>50526</th>\n",
       "      <td>31 12 2018 23:20</td>\n",
       "      <td>1684.353027</td>\n",
       "      <td>7.332648</td>\n",
       "      <td>1173.055771</td>\n",
       "      <td>84.062599</td>\n",
       "    </tr>\n",
       "    <tr>\n",
       "      <th>50527</th>\n",
       "      <td>31 12 2018 23:30</td>\n",
       "      <td>2201.106934</td>\n",
       "      <td>8.435358</td>\n",
       "      <td>1788.284755</td>\n",
       "      <td>84.742500</td>\n",
       "    </tr>\n",
       "    <tr>\n",
       "      <th>50528</th>\n",
       "      <td>31 12 2018 23:40</td>\n",
       "      <td>2515.694092</td>\n",
       "      <td>9.421366</td>\n",
       "      <td>2418.382503</td>\n",
       "      <td>84.297913</td>\n",
       "    </tr>\n",
       "    <tr>\n",
       "      <th>50529</th>\n",
       "      <td>31 12 2018 23:50</td>\n",
       "      <td>2820.466064</td>\n",
       "      <td>9.979332</td>\n",
       "      <td>2779.184096</td>\n",
       "      <td>82.274620</td>\n",
       "    </tr>\n",
       "  </tbody>\n",
       "</table>\n",
       "</div>"
      ],
      "text/plain": [
       "                   Date  Active_Power  Wind_Speed  Theoretical_Power  \\\n",
       "50525  31 12 2018 23:10   2963.980957   11.404030        3397.190793   \n",
       "50526  31 12 2018 23:20   1684.353027    7.332648        1173.055771   \n",
       "50527  31 12 2018 23:30   2201.106934    8.435358        1788.284755   \n",
       "50528  31 12 2018 23:40   2515.694092    9.421366        2418.382503   \n",
       "50529  31 12 2018 23:50   2820.466064    9.979332        2779.184096   \n",
       "\n",
       "       Wind_Direction  \n",
       "50525       80.502724  \n",
       "50526       84.062599  \n",
       "50527       84.742500  \n",
       "50528       84.297913  \n",
       "50529       82.274620  "
      ]
     },
     "execution_count": 5,
     "metadata": {},
     "output_type": "execute_result"
    }
   ],
   "source": [
    "data.tail() #last 5 rows of the dataset"
   ]
  },
  {
   "cell_type": "code",
   "execution_count": 6,
   "id": "e9cf34ba",
   "metadata": {},
   "outputs": [
    {
     "data": {
      "text/plain": [
       "(50530, 5)"
      ]
     },
     "execution_count": 6,
     "metadata": {},
     "output_type": "execute_result"
    }
   ],
   "source": [
    "#shape of the dataset\n",
    "data.shape"
   ]
  },
  {
   "cell_type": "code",
   "execution_count": 7,
   "id": "f10a67fe",
   "metadata": {},
   "outputs": [
    {
     "data": {
      "text/plain": [
       "Date                 0\n",
       "Active_Power         0\n",
       "Wind_Speed           0\n",
       "Theoretical_Power    0\n",
       "Wind_Direction       0\n",
       "dtype: int64"
      ]
     },
     "execution_count": 7,
     "metadata": {},
     "output_type": "execute_result"
    }
   ],
   "source": [
    "#missing values\n",
    "\n",
    "data.isna().sum()"
   ]
  },
  {
   "cell_type": "code",
   "execution_count": 8,
   "id": "aeb2e781",
   "metadata": {},
   "outputs": [
    {
     "data": {
      "text/html": [
       "<div>\n",
       "<style scoped>\n",
       "    .dataframe tbody tr th:only-of-type {\n",
       "        vertical-align: middle;\n",
       "    }\n",
       "\n",
       "    .dataframe tbody tr th {\n",
       "        vertical-align: top;\n",
       "    }\n",
       "\n",
       "    .dataframe thead th {\n",
       "        text-align: right;\n",
       "    }\n",
       "</style>\n",
       "<table border=\"1\" class=\"dataframe\">\n",
       "  <thead>\n",
       "    <tr style=\"text-align: right;\">\n",
       "      <th></th>\n",
       "      <th>count</th>\n",
       "      <th>mean</th>\n",
       "      <th>std</th>\n",
       "      <th>min</th>\n",
       "      <th>25%</th>\n",
       "      <th>50%</th>\n",
       "      <th>75%</th>\n",
       "      <th>max</th>\n",
       "    </tr>\n",
       "  </thead>\n",
       "  <tbody>\n",
       "    <tr>\n",
       "      <th>Active_Power</th>\n",
       "      <td>50530.0</td>\n",
       "      <td>1307.684332</td>\n",
       "      <td>1312.459242</td>\n",
       "      <td>-2.471405</td>\n",
       "      <td>50.677890</td>\n",
       "      <td>825.838074</td>\n",
       "      <td>2482.507568</td>\n",
       "      <td>3618.732910</td>\n",
       "    </tr>\n",
       "    <tr>\n",
       "      <th>Wind_Speed</th>\n",
       "      <td>50530.0</td>\n",
       "      <td>7.557952</td>\n",
       "      <td>4.227166</td>\n",
       "      <td>0.000000</td>\n",
       "      <td>4.201395</td>\n",
       "      <td>7.104594</td>\n",
       "      <td>10.300020</td>\n",
       "      <td>25.206011</td>\n",
       "    </tr>\n",
       "    <tr>\n",
       "      <th>Theoretical_Power</th>\n",
       "      <td>50530.0</td>\n",
       "      <td>1492.175463</td>\n",
       "      <td>1368.018238</td>\n",
       "      <td>0.000000</td>\n",
       "      <td>161.328167</td>\n",
       "      <td>1063.776283</td>\n",
       "      <td>2964.972462</td>\n",
       "      <td>3600.000000</td>\n",
       "    </tr>\n",
       "    <tr>\n",
       "      <th>Wind_Direction</th>\n",
       "      <td>50530.0</td>\n",
       "      <td>123.687559</td>\n",
       "      <td>93.443736</td>\n",
       "      <td>0.000000</td>\n",
       "      <td>49.315437</td>\n",
       "      <td>73.712978</td>\n",
       "      <td>201.696720</td>\n",
       "      <td>359.997589</td>\n",
       "    </tr>\n",
       "  </tbody>\n",
       "</table>\n",
       "</div>"
      ],
      "text/plain": [
       "                     count         mean          std       min         25%  \\\n",
       "Active_Power       50530.0  1307.684332  1312.459242 -2.471405   50.677890   \n",
       "Wind_Speed         50530.0     7.557952     4.227166  0.000000    4.201395   \n",
       "Theoretical_Power  50530.0  1492.175463  1368.018238  0.000000  161.328167   \n",
       "Wind_Direction     50530.0   123.687559    93.443736  0.000000   49.315437   \n",
       "\n",
       "                           50%          75%          max  \n",
       "Active_Power        825.838074  2482.507568  3618.732910  \n",
       "Wind_Speed            7.104594    10.300020    25.206011  \n",
       "Theoretical_Power  1063.776283  2964.972462  3600.000000  \n",
       "Wind_Direction       73.712978   201.696720   359.997589  "
      ]
     },
     "execution_count": 8,
     "metadata": {},
     "output_type": "execute_result"
    }
   ],
   "source": [
    "#statisticak overview of the data\n",
    "data.describe().T"
   ]
  },
  {
   "cell_type": "code",
   "execution_count": 9,
   "id": "b7a7f7d7",
   "metadata": {},
   "outputs": [
    {
     "data": {
      "text/plain": [
       "<matplotlib.collections.PathCollection at 0x1ff83401ac0>"
      ]
     },
     "execution_count": 9,
     "metadata": {},
     "output_type": "execute_result"
    },
    {
     "data": {
      "image/png": "[encoded data removed]",
      "text/plain": [
       "<Figure size 640x480 with 1 Axes>"
      ]
     },
     "metadata": {},
     "output_type": "display_data"
    }
   ],
   "source": [
    "#scatterplot\n",
    "plt.scatter(data['Theoretical_Power'],data['Wind_Speed'])"
   ]
  },
  {
   "cell_type": "code",
   "execution_count": 10,
   "id": "6bae2d41",
   "metadata": {},
   "outputs": [],
   "source": [
    "#split the data\n",
    "\n",
    "x=x = data[[\"Theoretical_Power\", \"Wind_Speed\"]]\n",
    "y=data[\"Active_Power\"]"
   ]
  },
  {
   "cell_type": "code",
   "execution_count": 11,
   "id": "e7858244",
   "metadata": {},
   "outputs": [],
   "source": [
    "x=x = data[[\"Theoretical_Power\", \"Wind_Speed\"]].values\n",
    "y=data[\"Active_Power\"].values"
   ]
  },
  {
   "cell_type": "code",
   "execution_count": 12,
   "id": "b28bf883",
   "metadata": {},
   "outputs": [
    {
     "data": {
      "text/plain": [
       "array([[ 416.32890782,    5.31133604],\n",
       "       [ 519.91751106,    5.67216682],\n",
       "       [ 390.90001581,    5.2160368 ],\n",
       "       ...,\n",
       "       [1788.28475526,    8.43535805],\n",
       "       [2418.38250336,    9.42136574],\n",
       "       [2779.18409628,    9.97933197]])"
      ]
     },
     "execution_count": 12,
     "metadata": {},
     "output_type": "execute_result"
    }
   ],
   "source": [
    "x"
   ]
  },
  {
   "cell_type": "code",
   "execution_count": 13,
   "id": "aa6454bb",
   "metadata": {},
   "outputs": [
    {
     "data": {
      "text/plain": [
       "array([ 380.04779053,  453.76919556,  306.37658691, ..., 2201.10693359,\n",
       "       2515.6940918 , 2820.46606445])"
      ]
     },
     "execution_count": 13,
     "metadata": {},
     "output_type": "execute_result"
    }
   ],
   "source": [
    "y"
   ]
  },
  {
   "cell_type": "code",
   "execution_count": 14,
   "id": "5ab973ba",
   "metadata": {},
   "outputs": [],
   "source": [
    "from sklearn.model_selection import train_test_split\n",
    "\n",
    "x_train,x_test,y_train,y_test=train_test_split(x,y,test_size=0.2)"
   ]
  },
  {
   "cell_type": "code",
   "execution_count": 15,
   "id": "7f6de812",
   "metadata": {},
   "outputs": [
    {
     "data": {
      "text/plain": [
       "RandomForestRegressor(max_depth=4, max_leaf_nodes=500, n_estimators=750,\n",
       "                      random_state=1)"
      ]
     },
     "execution_count": 15,
     "metadata": {},
     "output_type": "execute_result"
    }
   ],
   "source": [
    "from sklearn.ensemble import RandomForestRegressor\n",
    "\n",
    "RFR= RandomForestRegressor(n_estimators = 750, max_depth = 4, max_leaf_nodes = 500, random_state = 1)\n",
    "\n",
    "RFR.fit(x_train,y_train) "
   ]
  },
  {
   "cell_type": "code",
   "execution_count": 16,
   "id": "5255d9d2",
   "metadata": {},
   "outputs": [
    {
     "data": {
      "text/plain": [
       "array([[7.16452560e+02, 6.26323986e+00],\n",
       "       [1.66507070e+02, 4.22783899e+00],\n",
       "       [9.64137061e+02, 6.88290691e+00],\n",
       "       ...,\n",
       "       [3.15609958e+03, 1.07004499e+01],\n",
       "       [0.00000000e+00, 2.68328810e+00],\n",
       "       [1.00601774e+02, 3.84762692e+00]])"
      ]
     },
     "execution_count": 16,
     "metadata": {},
     "output_type": "execute_result"
    }
   ],
   "source": [
    "x_test"
   ]
  },
  {
   "cell_type": "code",
   "execution_count": 17,
   "id": "e4835b77",
   "metadata": {},
   "outputs": [
    {
     "data": {
      "text/plain": [
       "array([ 546.66390077,  153.93564142,  767.7112221 , ..., 2592.02145298,\n",
       "         10.19952956,   26.09517064])"
      ]
     },
     "execution_count": 17,
     "metadata": {},
     "output_type": "execute_result"
    }
   ],
   "source": [
    "#predcition on the test data\n",
    "y_pred=RFR.predict(x_test)\n",
    "y_pred"
   ]
  },
  {
   "cell_type": "code",
   "execution_count": 18,
   "id": "03827c33",
   "metadata": {},
   "outputs": [
    {
     "data": {
      "text/plain": [
       "array([1755.21422586, 1415.80367242,  486.00579377, ...,   10.19952956,\n",
       "       1619.69721272, 2897.79356349])"
      ]
     },
     "execution_count": 18,
     "metadata": {},
     "output_type": "execute_result"
    }
   ],
   "source": [
    "#predccition in the train data \n",
    "pred=RFR.predict(x_train)\n",
    "pred"
   ]
  },
  {
   "cell_type": "code",
   "execution_count": 19,
   "id": "58207376",
   "metadata": {},
   "outputs": [
    {
     "data": {
      "text/plain": [
       "0.9098600729923303"
      ]
     },
     "execution_count": 19,
     "metadata": {},
     "output_type": "execute_result"
    }
   ],
   "source": [
    "#FInding accuracy\n",
    "\n",
    "from sklearn.metrics import r2_score\n",
    "\n",
    "acc=r2_score(y_test,y_pred)\n",
    "\n",
    "acc"
   ]
  },
  {
   "cell_type": "code",
   "execution_count": 20,
   "id": "22a39454",
   "metadata": {},
   "outputs": [
    {
     "data": {
      "text/plain": [
       "['Power_Prediction.sav']"
      ]
     },
     "execution_count": 20,
     "metadata": {},
     "output_type": "execute_result"
    }
   ],
   "source": [
    "import joblib\n",
    "joblib.dump(RFR, \"Power_Prediction.sav\")"
   ]
  },
  {
   "cell_type": "code",
   "execution_count": 21,
   "id": "6f8c0d0f",
   "metadata": {},
   "outputs": [],
   "source": [
    "joblib.dump(RFR, open(r'C:\\Users\\balas\\Desktop\\IBM BALA PROJECT\\Project Development Phase\\App Build Flask\\Power_Prediction.sav', 'wb'))"
   ]
  }
 ],
 "metadata": {
  "kernelspec": {
   "display_name": "Python 3 (ipykernel)",
   "language": "python",
   "name": "python3"
  },
  "language_info": {
   "codemirror_mode": {
    "name": "ipython",
    "version": 3
   },
   "file_extension": ".py",
   "mimetype": "text/x-python",
   "name": "python",
   "nbconvert_exporter": "python",
   "pygments_lexer": "ipython3",
   "version": "3.9.13"
  }
 },
 "nbformat": 4,
 "nbformat_minor": 5
}
